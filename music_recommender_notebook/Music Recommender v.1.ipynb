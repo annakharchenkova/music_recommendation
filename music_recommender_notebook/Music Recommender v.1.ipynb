{
 "cells": [
  {
   "cell_type": "markdown",
   "metadata": {},
   "source": [
    "## MR Music Recommender v.1\n",
    "\n",
    "### Case Study - The site for recommendations - \"Gnod\"\n",
    "\n",
    "#### Scenario\n",
    "\n",
    "You have been hired as a Data Analyst for “Gnod”.\n",
    "\n",
    "“Gnod” is a site that provides recommendations for music, art, literature and products based on collaborative filtering algorithms. Their flagship product is the music recommender, which you can try at www.gnoosic.com. The site asks users to input 3 bands they like, and computes similarity scores with the rest of the users. Then, they recommend to the user bands that users with similar tastes have picked.\n",
    "\n",
    "“Gnod” is a small company, and its only revenue stream so far are adds in the site. In the future, they would like to explore partnership options with music apps (such as Deezer, Soundcloud or even Apple Music and Spotify). However, for that to be possible, they need to expand and improve their recommendations.\n",
    "\n",
    "That’s precisely where you come. They have hired you as a Data Analyst, and they expect you to bring a mix of technical expertise and business mindset to the table.\n",
    "\n",
    "Jane, CTO of Gnod, has sent you an email assigning you with your first task.\n",
    "\n",
    "#### Task(s)\n",
    "\n",
    "This is an e-mail Jane - CTO of Gnod - sent over your inbox in the first weeks working there.\n",
    "\n",
    "Dear xxxxxxxx, We are thrilled to welcome you as a Data Analyst for Gnoosic!\n",
    "\n",
    "As you know, we are trying to come up with ways to enhance our music recommendations. One of the new features we’d like to research is to recommend songs (not only bands). We’re also aware of the limitations of our collaborative filtering algorithms, and would like to give users two new possibilities when searching for recommendations:\n",
    "\n",
    "Songs that are actually similar to the ones they picked from an acoustic point of view.\n",
    "Songs that are popular around the world right now, independently from their tastes.\n",
    "Coming up with the perfect song recommender will take us months - no need to stress out too much. In this first week, we want you to explore new data sources for songs. The Internet is full of information and our first step is to acquire it do an initial exploration. Feel free to use APIs or directly scrape the web to collect as much information as possible from popular songs. Eventually, we’ll need to collect data from millions of songs, but we can start with a few hundreds or thousands from each source and see if the collected features are useful.\n",
    "\n",
    "Once the data is collected, we want you to create clusters of songs that are similar to each other. The idea is that if a user inputs a song from one group, we’ll prioritize giving them recommendations of songs from that same group.\n",
    "\n",
    "On Friday, you will present your work to me and Marek, the CEO and founder. Full disclosure: I need you to be very convincing about this whole song-recommender, as this has been my personal push and the main reason we hired you for!\n",
    "\n",
    "Be open minded about this process: we are agile, and that means that we define our products and features on-the-go, while exploring the tools and the data that’s available to us. We’d love you to provide your own vision of the product and the next steps to be taken.\n",
    "\n",
    "Lots of luck and strength for this first week with us!\n",
    "\n",
    "-Jane"
   ]
  },
  {
   "cell_type": "code",
   "execution_count": 1,
   "metadata": {},
   "outputs": [],
   "source": [
    "import pandas as pd\n",
    "\n",
    "import spotipy #spotify API \n",
    "from spotipy.oauth2 import SpotifyClientCredentials\n",
    "\n",
    "from  time import sleep\n",
    "\n",
    "import pickle\n",
    "\n",
    "import sys\n",
    "\n",
    "import webbrowser\n",
    "from IPython.display import Markdown, display"
   ]
  },
  {
   "cell_type": "code",
   "execution_count": 2,
   "metadata": {},
   "outputs": [],
   "source": [
    "from Credentials import *\n"
   ]
  },
  {
   "cell_type": "code",
   "execution_count": 3,
   "metadata": {},
   "outputs": [],
   "source": [
    "#importing kaggle dataset of 160 000 songs, clutestered \n",
    "data_k = pd.read_csv('kaggle_data_predictions_100.csv').drop(columns = 'Unnamed: 0')"
   ]
  },
  {
   "cell_type": "code",
   "execution_count": 4,
   "metadata": {},
   "outputs": [],
   "source": [
    "#importing top 100, clustered, and with song of  \n",
    "top = pd.read_csv('top_features_predictions_8').drop(columns = 'Unnamed: 0')\n",
    "top_id = pd.read_csv('top_features_id.csv').drop(columns = 'Unnamed: 0')"
   ]
  },
  {
   "cell_type": "code",
   "execution_count": 5,
   "metadata": {},
   "outputs": [],
   "source": [
    "#function that allowes to print out in i.e. bold\n",
    "def printmd(string):\n",
    "    display(Markdown(string))"
   ]
  },
  {
   "cell_type": "markdown",
   "metadata": {},
   "source": [
    "## functions\n",
    "\n",
    "Function takes song title, artist name, list of music features and returns a dataframe with audio features "
   ]
  },
  {
   "cell_type": "code",
   "execution_count": 6,
   "metadata": {},
   "outputs": [],
   "source": [
    "def clean_artist(artist_name):\n",
    "    '''removes characters from artist name that are\n",
    "    contained in break_list \n",
    "    i.e. \n",
    "    break_list = [ ' featuring ', ' x ', ' & ', 'with']'''\n",
    "        \n",
    "    break_list = [ ' featuring ', ' x ', ' & ', ' with']\n",
    "    for break_point in break_list:\n",
    "        artist_name = artist_name.replace(break_point,' ')\n",
    "    \n",
    "    return artist_name"
   ]
  },
  {
   "cell_type": "code",
   "execution_count": 7,
   "metadata": {},
   "outputs": [],
   "source": [
    "def  get_audio_features(song_name, artist, music_features):\n",
    "    '''Function takes song title, artist name, list of music features\n",
    "    and returns a dataframe with audio features  \n",
    "    i.e.\n",
    "    song_name = 'rain on me'\n",
    "    artist = 'lady gaga'\n",
    "    music_features = ['danceability', 'energy', 'key','loudness',\n",
    "      'mode','speechiness','acousticness','instrumentalness',\n",
    "      'liveness', 'valence','tempo']'''\n",
    "    \n",
    "    sp = spotipy.Spotify(auth_manager=SpotifyClientCredentials(client_id= Client_ID,\n",
    "                                                           client_secret= Client_Secret))\n",
    "    \n",
    "    artist = clean_artist(artist)\n",
    "    \n",
    "    #form query for the song with the artist filer\n",
    "    results = sp.search(q = (\"artist:\"+artist+' track:'+song_name))\n",
    "    \n",
    "    #taking item [0] as best match \n",
    "    #returns dict within a list; dictionary is one element of the list - hence [0] in the end\n",
    "    features = (sp.audio_features(results[\"tracks\"][\"items\"][0][\"uri\"]))[0]\n",
    "    \n",
    "    #only leaving the features we want - music_features\n",
    "    unwanted =  set(features) - set(music_features)\n",
    "    for unwanted_key in unwanted: \n",
    "        del features[unwanted_key]\n",
    "    \n",
    "    #to create df after - replacing values with lists\n",
    "    for key, value in features.items():\n",
    "        value_list = []\n",
    "        value_list.append(value)\n",
    "        features[key] = value_list\n",
    "    \n",
    "    feature_dataframe = pd.DataFrame(features)\n",
    "    \n",
    "    return feature_dataframe"
   ]
  },
  {
   "cell_type": "code",
   "execution_count": 8,
   "metadata": {},
   "outputs": [],
   "source": [
    "def prediction(audio_features):\n",
    "    ''' function takes in audio geatures from get_audio_feautures\n",
    "    function, model that was saved previously in a \n",
    "    pickle file and predicts the cluster for the songs'''\n",
    "    model = pickle.load(open('my_kaggle_model_100.pkl','rb'))\n",
    "    prediction = model.predict(audio_features)\n",
    "    return prediction"
   ]
  },
  {
   "cell_type": "code",
   "execution_count": 9,
   "metadata": {},
   "outputs": [],
   "source": [
    "def recommendation(song, name):\n",
    "    ''' recommends 3 songs similar to the input\n",
    "    recommendation from dataset data_k'''\n",
    "    \n",
    "    music_features = ['danceability', 'energy', 'key',\n",
    "                      'loudness',\n",
    "                      'mode',\n",
    "                      'speechiness',\n",
    "                      'acousticness',\n",
    "                      'instrumentalness',\n",
    "                      'liveness',\n",
    "                      'valence',\n",
    "                      'tempo']\n",
    "    \n",
    "    audio_features = get_audio_features(song, name, music_features)\n",
    "    \n",
    "    #identifying cluster of the song:\n",
    "    cluster_id = prediction(audio_features)\n",
    "    \n",
    "    #sample 3 songs from a cluster:\n",
    "    x = data_k[(data_k.cluster == int(cluster_id))].sample(n = 3).reset_index()\n",
    "    \n",
    "    printmd(\"**Great**, we think you'll like these ones from our collection\")\n",
    "    \n",
    "    for i in range(len(x)): \n",
    "        artist_list = ''.join(list(x['artists'][i])).replace(\"'\",'').replace(\"[\",'').replace(\"]\",'')    \n",
    "        printmd('* **{}** by: **{}**'.format(x['name'][i], artist_list)) \n",
    "    \n",
    "    #open spotify links to songs:\n",
    "    #for i in range(len(x)):\n",
    "    sleep(8)\n",
    "    url = 'https://open.spotify.com/track/'+x['id'][1]\n",
    "    webbrowser.open(url)\n",
    "    \n",
    "    return"
   ]
  },
  {
   "cell_type": "code",
   "execution_count": 10,
   "metadata": {},
   "outputs": [],
   "source": [
    "def from_the_hot(song, name):\n",
    "    ''' recommends songs from the hot list from \n",
    "    bilboard 1000'''\n",
    "\n",
    "    #excluding user's song from reccomendation:\n",
    "    x = top_id[(top_id.title_lower != song) & (top_id.artist_lower != name)].sample(n = 3).reset_index()\n",
    "\n",
    "    printmd(\"**Awesome**, it's on the hot list - we think you'll like these:\")\n",
    "\n",
    "    for i in range(len(x)):    \n",
    "         printmd('* **{}** by **{}**'.format(x['title'][i], x['artist'][i]))    \n",
    "            \n",
    "    url = 'https://open.spotify.com/track/'+x['id'][1]\n",
    "    sleep(8)\n",
    "    webbrowser.open_new(url)    "
   ]
  },
  {
   "cell_type": "code",
   "execution_count": 11,
   "metadata": {},
   "outputs": [],
   "source": [
    "def recommender():\n",
    "    '''UI - takes track names and artists and recoomends songs:\n",
    "    if track is on the top 100 list, recommendation comes \n",
    "    from that list,\n",
    "    if not - suggests similar song from the database\n",
    "    '''\n",
    "    \n",
    "    flag = 'y'\n",
    "    while flag == 'y':\n",
    "    \n",
    "        #input from customer\n",
    "        print('What song do you like right now?')\n",
    "        print('Artist:')\n",
    "        name = input().lower() \n",
    "        print('Song:')\n",
    "        song = input().lower()\n",
    "        print()\n",
    "\n",
    "\n",
    "        filter_artist = top[top.artist_lower.str.contains(name)]\n",
    "\n",
    "        if song in filter_artist.values:\n",
    "            from_the_hot(song, name)\n",
    "\n",
    "        else:\n",
    "            recommendation(song, name)\n",
    "        print() \n",
    "        print('----------------------------------------')\n",
    "        print()\n",
    "        print('Want to play again?')\n",
    "        print('y/n')\n",
    "        flag = input().lower() \n",
    "\n",
    "        if flag != 'y':\n",
    "            print()\n",
    "            print('----------------------------------------')\n",
    "            print()\n",
    "            print('Bye bye, see you sooon!')\n",
    "        \n",
    "    return"
   ]
  },
  {
   "cell_type": "markdown",
   "metadata": {},
   "source": [
    "## Recommender "
   ]
  },
  {
   "cell_type": "code",
   "execution_count": null,
   "metadata": {},
   "outputs": [
    {
     "name": "stdout",
     "output_type": "stream",
     "text": [
      "What song do you like right now?\n",
      "Artist:\n",
      "a perfect circle\n",
      "Song:\n",
      "the outsider\n",
      "\n"
     ]
    },
    {
     "data": {
      "text/markdown": [
       "**Great**, we think you'll like these ones from our collection"
      ],
      "text/plain": [
       "<IPython.core.display.Markdown object>"
      ]
     },
     "metadata": {},
     "output_type": "display_data"
    },
    {
     "data": {
      "text/markdown": [
       "* **The Swamp Song - Version 1** by: **Oasis**"
      ],
      "text/plain": [
       "<IPython.core.display.Markdown object>"
      ]
     },
     "metadata": {},
     "output_type": "display_data"
    },
    {
     "data": {
      "text/markdown": [
       "* **What's Behind The Mask - Remastered** by: **The Cramps**"
      ],
      "text/plain": [
       "<IPython.core.display.Markdown object>"
      ]
     },
     "metadata": {},
     "output_type": "display_data"
    },
    {
     "data": {
      "text/markdown": [
       "* **Space Lord** by: **Monster Magnet**"
      ],
      "text/plain": [
       "<IPython.core.display.Markdown object>"
      ]
     },
     "metadata": {},
     "output_type": "display_data"
    },
    {
     "name": "stdout",
     "output_type": "stream",
     "text": [
      "\n",
      "----------------------------------------\n",
      "\n",
      "Want to play again?\n",
      "y/n\n",
      "y\n",
      "What song do you like right now?\n",
      "Artist:\n",
      "air\n",
      "Song:\n",
      "all i need\n",
      "\n"
     ]
    },
    {
     "data": {
      "text/markdown": [
       "**Great**, we think you'll like these ones from our collection"
      ],
      "text/plain": [
       "<IPython.core.display.Markdown object>"
      ]
     },
     "metadata": {},
     "output_type": "display_data"
    },
    {
     "data": {
      "text/markdown": [
       "* **Mpaglamades (paradosiako)** by: **Kostas Karipis**"
      ],
      "text/plain": [
       "<IPython.core.display.Markdown object>"
      ]
     },
     "metadata": {},
     "output_type": "display_data"
    },
    {
     "data": {
      "text/markdown": [
       "* **Old Cape Cod** by: **Jerry Vale**"
      ],
      "text/plain": [
       "<IPython.core.display.Markdown object>"
      ]
     },
     "metadata": {},
     "output_type": "display_data"
    },
    {
     "data": {
      "text/markdown": [
       "* **Mr. Guder** by: **Carpenters**"
      ],
      "text/plain": [
       "<IPython.core.display.Markdown object>"
      ]
     },
     "metadata": {},
     "output_type": "display_data"
    },
    {
     "name": "stdout",
     "output_type": "stream",
     "text": [
      "\n",
      "----------------------------------------\n",
      "\n",
      "Want to play again?\n",
      "y/n\n"
     ]
    }
   ],
   "source": [
    "recommender()"
   ]
  },
  {
   "cell_type": "markdown",
   "metadata": {},
   "source": [
    "### Test tracks:"
   ]
  },
  {
   "cell_type": "markdown",
   "metadata": {},
   "source": [
    "#### Hot ones:\n",
    "* artist: ariana grande\n",
    "* track: positions\n",
    "\n",
    "#### Not hot ones: \n",
    "* artist: solomon burke\n",
    "* track: cry to me"
   ]
  }
 ],
 "metadata": {
  "kernelspec": {
   "display_name": "Python 3",
   "language": "python",
   "name": "python3"
  },
  "language_info": {
   "codemirror_mode": {
    "name": "ipython",
    "version": 3
   },
   "file_extension": ".py",
   "mimetype": "text/x-python",
   "name": "python",
   "nbconvert_exporter": "python",
   "pygments_lexer": "ipython3",
   "version": "3.8.3"
  }
 },
 "nbformat": 4,
 "nbformat_minor": 4
}
